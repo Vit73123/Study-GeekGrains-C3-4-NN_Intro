{
  "nbformat": 4,
  "nbformat_minor": 0,
  "metadata": {
    "colab": {
      "provenance": []
    },
    "kernelspec": {
      "name": "python3",
      "display_name": "Python 3"
    },
    "language_info": {
      "name": "python"
    }
  },
  "cells": [
    {
      "cell_type": "markdown",
      "source": [
        "# Введение в нейронные сети. Урок 3. Домашнее задание"
      ],
      "metadata": {
        "id": "krBAaYZkCNnB"
      }
    },
    {
      "cell_type": "markdown",
      "source": [
        "1. Попробуйте улучшить работу нейронной сети (разобранную на уроке), обучавшейся на датасет Fashion-MNIST. Напишите в комментариях к уроку, какого результата вы добились от нейросети и что помогло улучшить её точность"
      ],
      "metadata": {
        "id": "kjo26bmtCbXz"
      }
    },
    {
      "cell_type": "code",
      "execution_count": 2,
      "metadata": {
        "id": "pOY4gWEVCBiS"
      },
      "outputs": [],
      "source": [
        "import tensorflow as tf\n",
        "from tensorflow import keras\n",
        "\n",
        "import numpy as np\n",
        "import matplotlib.pyplot as plt"
      ]
    },
    {
      "cell_type": "code",
      "source": [
        "fashion_mnist = keras.datasets.fashion_mnist\n",
        "\n",
        "(train_images, train_labels), (test_images, test_labels) = fashion_mnist.load_data()"
      ],
      "metadata": {
        "colab": {
          "base_uri": "https://localhost:8080/"
        },
        "id": "svnODSYBC4W_",
        "outputId": "38b1a983-5d93-43e8-9f89-ce82df75a1fd"
      },
      "execution_count": 3,
      "outputs": [
        {
          "output_type": "stream",
          "name": "stdout",
          "text": [
            "Downloading data from https://storage.googleapis.com/tensorflow/tf-keras-datasets/train-labels-idx1-ubyte.gz\n",
            "29515/29515 [==============================] - 0s 0us/step\n",
            "Downloading data from https://storage.googleapis.com/tensorflow/tf-keras-datasets/train-images-idx3-ubyte.gz\n",
            "26421880/26421880 [==============================] - 1s 0us/step\n",
            "Downloading data from https://storage.googleapis.com/tensorflow/tf-keras-datasets/t10k-labels-idx1-ubyte.gz\n",
            "5148/5148 [==============================] - 0s 0us/step\n",
            "Downloading data from https://storage.googleapis.com/tensorflow/tf-keras-datasets/t10k-images-idx3-ubyte.gz\n",
            "4422102/4422102 [==============================] - 1s 0us/step\n"
          ]
        }
      ]
    },
    {
      "cell_type": "code",
      "source": [
        "train_images = train_images / 255.0\n",
        "test_images = test_images / 255.0"
      ],
      "metadata": {
        "id": "QmZJB1_KDBTH"
      },
      "execution_count": 4,
      "outputs": []
    },
    {
      "cell_type": "markdown",
      "source": [
        "Эталонная модель"
      ],
      "metadata": {
        "id": "Ny_fn2O8EK6j"
      }
    },
    {
      "cell_type": "code",
      "source": [
        "model_0 = keras.Sequential([\n",
        "    keras.layers.Flatten(input_shape=(28, 28)),\n",
        "    keras.layers.Dense(128, activation='relu'),\n",
        "    keras.layers.Dense(10)\n",
        "])\n",
        "\n",
        "model_0.compile(optimizer='adam',\n",
        "              loss=tf.keras.losses.SparseCategoricalCrossentropy(from_logits=True),\n",
        "              metrics=['accuracy'])\n",
        "\n",
        "model_0.fit(train_images, train_labels, epochs=3)\n",
        "\n",
        "test_loss, test_acc = model_0.evaluate(test_images,  test_labels, verbose=2)\n",
        "\n",
        "print('\\nTest accuracy:', test_acc)"
      ],
      "metadata": {
        "colab": {
          "base_uri": "https://localhost:8080/"
        },
        "id": "ixxfiLPaDI18",
        "outputId": "e51ecd3e-2f92-40dd-ff99-78e3085e9345"
      },
      "execution_count": 14,
      "outputs": [
        {
          "output_type": "stream",
          "name": "stdout",
          "text": [
            "Epoch 1/3\n",
            "1875/1875 [==============================] - 8s 4ms/step - loss: 0.4997 - accuracy: 0.8253\n",
            "Epoch 2/3\n",
            "1875/1875 [==============================] - 9s 5ms/step - loss: 0.3767 - accuracy: 0.8640\n",
            "Epoch 3/3\n",
            "1875/1875 [==============================] - 8s 4ms/step - loss: 0.3398 - accuracy: 0.8760\n",
            "313/313 - 1s - loss: 0.3933 - accuracy: 0.8589 - 1s/epoch - 3ms/step\n",
            "\n",
            "Test accuracy: 0.8589000105857849\n"
          ]
        }
      ]
    },
    {
      "cell_type": "markdown",
      "source": [
        "Модель 1\n",
        "Изменение конфигурации сети: 5 слоёв, увеличение нейронов, 10 эпох\n",
        "\n",
        "Результат: улучшение точности до 0.91"
      ],
      "metadata": {
        "id": "f6YiesakLTMv"
      }
    },
    {
      "cell_type": "markdown",
      "source": [],
      "metadata": {
        "id": "3cXYyfb4LRVS"
      }
    },
    {
      "cell_type": "code",
      "source": [
        "model_1 = keras.Sequential([\n",
        "    keras.layers.Flatten(input_shape=(28, 28)),\n",
        "    keras.layers.Dense(256, activation='relu'),\n",
        "    keras.layers.Dense(128, activation='relu'),\n",
        "    keras.layers.Dense(64, activation='relu'),\n",
        "    keras.layers.Dense(64, activation='relu'),\n",
        "    keras.layers.Dense(10)\n",
        "])\n",
        "\n",
        "model_1.compile(optimizer='adam',\n",
        "              loss=tf.keras.losses.SparseCategoricalCrossentropy(from_logits=True),\n",
        "              metrics=['accuracy'])\n",
        "\n",
        "model_1.fit(train_images, train_labels, epochs=10)\n",
        "\n",
        "test_loss, test_acc = model_1.evaluate(test_images,  test_labels, verbose=2)\n",
        "\n",
        "print('\\nTest accuracy:', test_acc)"
      ],
      "metadata": {
        "colab": {
          "base_uri": "https://localhost:8080/"
        },
        "outputId": "f55d149b-7b67-4fb4-d7e3-7dfe87922d39",
        "id": "H2-yLOLYH02p"
      },
      "execution_count": 18,
      "outputs": [
        {
          "output_type": "stream",
          "name": "stdout",
          "text": [
            "Epoch 1/10\n",
            "1875/1875 [==============================] - 14s 7ms/step - loss: 0.4940 - accuracy: 0.8212\n",
            "Epoch 2/10\n",
            "1875/1875 [==============================] - 14s 7ms/step - loss: 0.3697 - accuracy: 0.8656\n",
            "Epoch 3/10\n",
            "1875/1875 [==============================] - 12s 7ms/step - loss: 0.3336 - accuracy: 0.8774\n",
            "Epoch 4/10\n",
            "1875/1875 [==============================] - 13s 7ms/step - loss: 0.3071 - accuracy: 0.8864\n",
            "Epoch 5/10\n",
            "1875/1875 [==============================] - 12s 7ms/step - loss: 0.2905 - accuracy: 0.8915\n",
            "Epoch 6/10\n",
            "1875/1875 [==============================] - 13s 7ms/step - loss: 0.2775 - accuracy: 0.8952\n",
            "Epoch 7/10\n",
            "1875/1875 [==============================] - 13s 7ms/step - loss: 0.2628 - accuracy: 0.9019\n",
            "Epoch 8/10\n",
            "1875/1875 [==============================] - 13s 7ms/step - loss: 0.2547 - accuracy: 0.9037\n",
            "Epoch 9/10\n",
            "1875/1875 [==============================] - 13s 7ms/step - loss: 0.2450 - accuracy: 0.9063\n",
            "Epoch 10/10\n",
            "1875/1875 [==============================] - 13s 7ms/step - loss: 0.2371 - accuracy: 0.9110\n",
            "313/313 - 1s - loss: 0.3541 - accuracy: 0.8812 - 932ms/epoch - 3ms/step\n",
            "\n",
            "Test accuracy: 0.8812000155448914\n"
          ]
        }
      ]
    },
    {
      "cell_type": "markdown",
      "source": [
        "2. GradientType\n",
        "\n",
        "Применяется для автоматического дифференцирования.  \n",
        "Заносит все промежуточные вычисления функции вокруг заданной точки в объект tape.  \n",
        "Далее проходит в обратном порядке результаты вычисления функции и находит дифференциал.  \n",
        "Эффективен для больших размеров данных.\n",
        "\n",
        "Вывод: применяется для реализации собственных алгоритмов машинного обучения"
      ],
      "metadata": {
        "id": "7YIr4S5tOJoH"
      }
    },
    {
      "cell_type": "code",
      "source": [
        "# Пример 1: Вычислить производную функции y = x ^ 2 в точке x = 3\n",
        "\n",
        "x = tf.Variable(3.0)\n",
        "with tf.GradientTape() as tape:\n",
        "  y = x ** 2\n",
        "\n",
        "df = tape.gradient(y, x)\n",
        "print(df)"
      ],
      "metadata": {
        "colab": {
          "base_uri": "https://localhost:8080/"
        },
        "id": "SXs51mj2QYYW",
        "outputId": "00cbd108-2ecb-4f7c-dfd3-dd59d0989bb4"
      },
      "execution_count": 22,
      "outputs": [
        {
          "output_type": "stream",
          "name": "stdout",
          "text": [
            "tf.Tensor(6.0, shape=(), dtype=float32)\n"
          ]
        }
      ]
    },
    {
      "cell_type": "code",
      "source": [
        "# Пример 2: Для нейронной сети\n",
        "# Y = X * W + B,\n",
        "# где векторы:\n",
        "# Y - выходные значения\n",
        "# X, W - входные значения и веса\n",
        "# Вычислить производную функции потерь\n",
        "# loss = sum(Y ^ 2) / N\n",
        "# для заданных входных значений X при изменении параметров W, B\n",
        "\n",
        "w = tf.Variable(tf.random.normal((3, 2)))       # w - веса      матрица размером 3х2\n",
        "                                                #     случайные значения\n",
        "b = tf.Variable(tf.zeros(2, dtype=tf.float32))  # b - смещения  вектор  размером 2\n",
        "                                                #     нули\n",
        "x = tf.Variable([[-2.0, 1.0, 3.0]])\n",
        "\n",
        "with tf.GradientTape() as tape: # Запись в tape промежуточных вычислений функции потерь на прямом проходе\n",
        "  y = x @ w + b                 # Y = X * W + B (@ - умножение матриц)\n",
        "  loss = tf.reduce_mean(y ** 2) # loss = sum(Y ^ 2) / N\n",
        "\n",
        "df = tape.gradient(loss, [w, b])  # Вычислить производные для каждого из заданных параметров w, b\n",
        "print(df[0])                    # df[0] - множество значений производных функции потерь при изменении параметра w\n",
        "                                #         матрица размером 3х2\n",
        "print(df[1])                    # df[1] - множество значений производных функции потерь при изменении параметра b\n",
        "                                #         вектор  размером 2\n",
        "\n",
        "# Выбор минимальных значений функции потерь определяет оптимальный вес и смещение\n",
        "\n",
        "\n",
        "\n"
      ],
      "metadata": {
        "colab": {
          "base_uri": "https://localhost:8080/"
        },
        "id": "NbK2YDg-Ob5I",
        "outputId": "c4813520-ca60-4a9d-a769-c5b81da196f8"
      },
      "execution_count": 26,
      "outputs": [
        {
          "output_type": "stream",
          "name": "stdout",
          "text": [
            "tf.Tensor(\n",
            "[[ 4.6766562 -7.585261 ]\n",
            " [-2.3383281  3.7926304]\n",
            " [-7.014984  11.377892 ]], shape=(3, 2), dtype=float32)\n",
            "tf.Tensor([-2.3383281  3.7926304], shape=(2,), dtype=float32)\n"
          ]
        }
      ]
    },
    {
      "cell_type": "code",
      "source": [],
      "metadata": {
        "id": "79lxpntDSXaW"
      },
      "execution_count": null,
      "outputs": []
    }
  ]
}